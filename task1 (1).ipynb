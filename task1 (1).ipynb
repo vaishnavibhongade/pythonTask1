{
 "cells": [
  {
   "cell_type": "markdown",
   "id": "61b5b6a0-0202-41c8-88b1-0a9f87691088",
   "metadata": {},
   "source": [
    "1) heading = > # heading\n"
   ]
  },
  {
   "cell_type": "markdown",
   "id": "1709ae8c-65f4-4839-b37a-7da18b018a85",
   "metadata": {},
   "source": [
    "# heading"
   ]
  },
  {
   "cell_type": "markdown",
   "id": "26930e3b-df81-4bfe-9b06-8e6cf8d73249",
   "metadata": {},
   "source": [
    "## heading"
   ]
  },
  {
   "cell_type": "markdown",
   "id": "b646d607-a789-4c9e-924e-924c2d2a5dd6",
   "metadata": {},
   "source": [
    "### heading"
   ]
  },
  {
   "cell_type": "markdown",
   "id": "13508adb-7a59-42eb-8136-ab1607e1e45e",
   "metadata": {},
   "source": [
    "#### heading"
   ]
  },
  {
   "cell_type": "markdown",
   "id": "a63ee123-79c6-458c-bd50-82f15baf9f9a",
   "metadata": {},
   "source": [
    "##### heading"
   ]
  },
  {
   "cell_type": "markdown",
   "id": "87a5f821-83f7-4d6e-8b31-10127999aa1b",
   "metadata": {},
   "source": [
    "2) bullet points"
   ]
  },
  {
   "cell_type": "markdown",
   "id": "8caf16e7-61f4-4b16-a9fa-1464336d676c",
   "metadata": {},
   "source": [
    "* hello my name is Vaishnavi"
   ]
  },
  {
   "cell_type": "markdown",
   "id": "557de3c4-3260-4933-ade0-9d2b0fe174f6",
   "metadata": {},
   "source": [
    "3) print "
   ]
  },
  {
   "cell_type": "markdown",
   "id": "d1710434-e118-42ed-84cf-2ca75937ef75",
   "metadata": {},
   "source": [
    "<pre>\n",
    "print ('vaishnavi')\n",
    "<pre>"
   ]
  },
  {
   "cell_type": "markdown",
   "id": "fc109998-bc23-4cb1-85f0-df6eae458245",
   "metadata": {},
   "source": [
    "4) basic arithmetic"
   ]
  },
  {
   "cell_type": "code",
   "execution_count": 42,
   "id": "7ef5fbbf-f2aa-46a2-b44d-4bb3479f768f",
   "metadata": {},
   "outputs": [
    {
     "data": {
      "text/plain": [
       "250"
      ]
     },
     "execution_count": 42,
     "metadata": {},
     "output_type": "execute_result"
    }
   ],
   "source": [
    "10*(12+13)"
   ]
  },
  {
   "cell_type": "markdown",
   "id": "6f69a828-2851-48db-abd6-f56266876ea4",
   "metadata": {},
   "source": [
    "5) text and font"
   ]
  },
  {
   "cell_type": "markdown",
   "id": "edc9d1fc-ca9d-4ff5-b3b4-dad383ccc738",
   "metadata": {},
   "source": [
    "# bold text"
   ]
  },
  {
   "cell_type": "markdown",
   "id": "8c6683d8-ae3b-42c5-934a-21298d5e577d",
   "metadata": {},
   "source": [
    "_italic text_"
   ]
  },
  {
   "cell_type": "markdown",
   "id": "e7f1d0d4-a3ec-4533-a278-88527eca834f",
   "metadata": {},
   "source": [
    "6) blockquote"
   ]
  },
  {
   "cell_type": "markdown",
   "id": "c7928036-7539-433d-bd58-bb40583df21b",
   "metadata": {},
   "source": [
    " hyy\n",
    "* > this is blah blah blah "
   ]
  },
  {
   "cell_type": "markdown",
   "id": "f0bcfbd3-9bfe-4057-b979-a9e8173dcb40",
   "metadata": {},
   "source": [
    "7) nested order list"
   ]
  },
  {
   "cell_type": "markdown",
   "id": "2a43227b-6f48-4288-848e-517a82b77c25",
   "metadata": {},
   "source": [
    "1. hello\n",
    "   1.1 hello\n",
    "   1.2 hello"
   ]
  },
  {
   "cell_type": "markdown",
   "id": "4496d0e9-5c9b-415c-bf29-ece665adf35b",
   "metadata": {},
   "source": [
    "8) unoredered list"
   ]
  },
  {
   "cell_type": "markdown",
   "id": "c854af54-f7a6-4853-8936-40928dc9b8eb",
   "metadata": {},
   "source": [
    "* item 1\n",
    "* item 2\n",
    "     * item 3\n",
    "     * item 4\n",
    "     "
   ]
  },
  {
   "cell_type": "markdown",
   "id": "2185525c-b5d4-48c6-ad8e-b3faeb3f927a",
   "metadata": {},
   "source": [
    "9) vertical line "
   ]
  },
  {
   "cell_type": "markdown",
   "id": "113f057e-975b-4402-a5ec-069362703d0a",
   "metadata": {},
   "source": [
    "# | "
   ]
  },
  {
   "cell_type": "markdown",
   "id": "abf8813c-80fa-42bf-82d6-3a0e3c8a4b18",
   "metadata": {},
   "source": [
    "10) strike through"
   ]
  },
  {
   "cell_type": "markdown",
   "id": "20f3e0d1-247f-4a22-85b0-177c2e165b53",
   "metadata": {},
   "source": [
    "~~this text will be struck through.~~"
   ]
  },
  {
   "cell_type": "markdown",
   "id": "7488b6a5-6dca-4aee-a6f6-2e5ecaadc9d9",
   "metadata": {},
   "source": [
    "11) intending"
   ]
  },
  {
   "cell_type": "markdown",
   "id": "e1a00b08-e17a-4a41-8d03-a15fb2de1013",
   "metadata": {},
   "source": [
    "add > before a word or phrase\n",
    "\n",
    ">This is markdown "
   ]
  },
  {
   "cell_type": "markdown",
   "id": "c8b61cc4-7b6f-420c-a04d-7bf305dcf9c8",
   "metadata": {},
   "source": [
    "12) geometric shapes "
   ]
  },
  {
   "cell_type": "markdown",
   "id": "1a3850ed-99a8-47c4-b336-fc74c460fffa",
   "metadata": {},
   "source": [
    "## https://en.wikipedia.org/wiki/Geometric shapes (Unicode block)\n",
    "\n",
    "&#9632;\n",
    "\n",
    "&#x25C0;\n",
    "\n",
    "&#9648;\n",
    "\n"
   ]
  },
  {
   "cell_type": "markdown",
   "id": "41e64f31-9801-46e4-9c5d-8c0b83413562",
   "metadata": {},
   "source": [
    "13) line break "
   ]
  },
  {
   "cell_type": "markdown",
   "id": "db79d5df-1b10-4f62-a19a-3e11fc25accb",
   "metadata": {},
   "source": [
    "end a line with two or more spaces , and then enter and type second line \n",
    "\n",
    "this is line 1.  \n",
    "and this is line 2."
   ]
  },
  {
   "cell_type": "markdown",
   "id": "f052d2ea-779f-44a6-80ce-0ad2204267af",
   "metadata": {},
   "source": [
    "14) external link "
   ]
  },
  {
   "cell_type": "markdown",
   "id": "d34ebca7-80b3-4328-8e24-2d454cf63555",
   "metadata": {},
   "source": [
    "surround the link with 2 underscorces (_) on each side\n",
    "\n",
    "__(https://en.wikipedia.org/wiki/Geometric shapes (Unicode block))__\n"
   ]
  },
  {
   "cell_type": "markdown",
   "id": "730cb85b-e4cd-4791-8ef8-089304119ac1",
   "metadata": {},
   "source": [
    "15) add pictures "
   ]
  },
  {
   "attachments": {
    "59e4c1d3-d187-4d5b-9466-3f73e3c5ad3a.jpg": {
     "image/jpeg": "[encoded data removed]"
    }
   },
   "cell_type": "markdown",
   "id": "8b6a0dff-1a68-4ced-b4d1-9eaf018620bd",
   "metadata": {},
   "source": [
    "![python logo] ![python_image.jpg](attachment:59e4c1d3-d187-4d5b-9466-3f73e3c5ad3a.jpg)"
   ]
  },
  {
   "cell_type": "code",
   "execution_count": null,
   "id": "b36a350a-05af-4aa5-881f-56a19d912905",
   "metadata": {},
   "outputs": [],
   "source": []
  }
 ],
 "metadata": {
  "kernelspec": {
   "display_name": "Python 3 (ipykernel)",
   "language": "python",
   "name": "python3"
  },
  "language_info": {
   "codemirror_mode": {
    "name": "ipython",
    "version": 3
   },
   "file_extension": ".py",
   "mimetype": "text/x-python",
   "name": "python",
   "nbconvert_exporter": "python",
   "pygments_lexer": "ipython3",
   "version": "3.12.4"
  }
 },
 "nbformat": 4,
 "nbformat_minor": 5
}
